{
 "cells": [
  {
   "cell_type": "markdown",
   "source": [
    "# Problem 9: Special Pythagorean Triplet\n",
    "![problem](img/p0009.png)\n",
    "\n",
    "## Conventions\n",
    "- a, b, c are the sides of the triangle\n",
    "- S is the perimeter of the triangle"
   ],
   "metadata": {
    "collapsed": false
   },
   "id": "9abd62300c4366b8"
  },
  {
   "cell_type": "markdown",
   "source": [
    "## Naive Approach\n",
    "Without involvement of any theorems, or any specialised formula, we can start a brute-force search to see which combination will satisfy Pythagoras Triplet:\n",
    "- Triangles have 3 sides (a, b, c)\n",
    "- c > a > b\n",
    "\n",
    "Without further ado, we can generate every possible values of a, b, and c, and check if the sum of squares of a and b is equal to the square of c."
   ],
   "metadata": {
    "collapsed": false
   },
   "id": "8d48c0f4b3bc06b6"
  },
  {
   "cell_type": "code",
   "execution_count": 1,
   "outputs": [
    {
     "name": "stdout",
     "output_type": "stream",
     "text": [
      "a=375, b=200, c=425\n",
      "q9_brute_force(1000)=31875000\n",
      "Took 918.0018901824951 ms\n"
     ]
    }
   ],
   "source": [
    "def q9_brute_force(perimeter):\n",
    "\tfor b in range(1, perimeter + 1):\n",
    "\t\tfor a in range(b, perimeter + 1):\n",
    "\t\t\tfor c in range(a, perimeter + 1):\n",
    "\t\t\t\tif (new_S := (a + b + c)) > 1000: break\n",
    "\t\t\t\tif new_S != 1000: continue\n",
    "\n",
    "\t\t\t\tif a ** 2 + b ** 2 == c ** 2:\n",
    "\t\t\t\t\tprint(f\"a={a}, b={b}, c={c}\")\n",
    "\t\t\t\t\treturn a * b * c\n",
    "\n",
    "\n",
    "from solutions.euler.util.decorators import timed_function\n",
    "\n",
    "assert (timed_function(q9_brute_force)(1000) == 31875000)\n"
   ],
   "metadata": {
    "collapsed": false,
    "ExecuteTime": {
     "end_time": "2024-07-21T13:35:32.049240Z",
     "start_time": "2024-07-21T13:35:31.123710Z"
    }
   },
   "id": "b3ae29eb94fa8962"
  },
  {
   "cell_type": "markdown",
   "source": [
    "## optimisations\n",
    "We should try and narrow down the search space. The obvious one is instead of trying different values of c (or whichever the inner-most value) we can derive it. In this example, we use c, but we can use a = 1000 - b - c and b = 1000 - a - c\n",
    "$\n",
    "a + b + c = 1000 \\\\\n",
    "\\hspace{2.4em} \\quad c = 1000 - a - b\n",
    "$\n",
    "\n",
    "Also, we can also restrict a given that we know that:\n",
    "$\n",
    "a + b + c = S \\\\\n",
    "c > b >= a \\\\\n",
    "a + b > c\n",
    "$ \n",
    "(a + b) has to be bigger than c (it is a triangle after all). Therefore, maximum value of c is S / 2, but it also cannot be smaller than S / 3. If so, (let's say S / 3 - 1), a and b has to be S / 3 - 2 or smaller, which added up will not make up S.   \n",
    "\n",
    "Let's restrict a (the smaller of the remaining a, b). a + b = S - c. And if we assume that b is the larger of the 2, the largest a can be is (S - c) / 2. But it cannot be so small such that it makes b bigger than c. Constraining range of b allows us to constraint range of a, that helps us narrow down the search-space.\n",
    "$\n",
    "b < c \\\\\n",
    "b = S - c - a \\\\\n",
    "S - c - a < c \\\\\n",
    "S - 2c < a \\\\\n",
    "$"
   ],
   "metadata": {
    "collapsed": false
   },
   "id": "76cdc620e6c740b2"
  },
  {
   "cell_type": "code",
   "execution_count": 2,
   "outputs": [
    {
     "name": "stderr",
     "output_type": "stream",
     "text": [
      "INFO:root:S=1000::(200, 375, 425)\n"
     ]
    },
    {
     "name": "stdout",
     "output_type": "stream",
     "text": [
      "q9_improved()=31875000\n",
      "Took 0.9052753448486328 ms\n"
     ]
    }
   ],
   "source": [
    "def q9_improved(perimeter=1000):\n",
    "\tmin_c, max_c = perimeter // 3, perimeter // 2\n",
    "\tlogging.debug(\"min_c=%s, max_c=%s\", min_c, max_c)\n",
    "\n",
    "\tfor c in range(min_c, max_c + 1):\n",
    "\t\tmin_a, max_a = perimeter - (2 * c) + 1, min(perimeter // 3, (perimeter - c) // 2)\n",
    "\t\tlogging.debug(\"min_a=%s, max_a=%s\", min_a, max_a)\n",
    "\n",
    "\t\tfor a in range(min_a, max_a + 1):\n",
    "\t\t\tb = perimeter - a - c\n",
    "\n",
    "\t\t\tif a * a + b * b == c * c:\n",
    "\t\t\t\tlogging.info(\"S=%s::%s\", perimeter, (a, b, c))\n",
    "\t\t\t\treturn a * b * c\n",
    "\n",
    "\traise ValueError(\"No solution found\")\n",
    "\n",
    "\n",
    "import logging\n",
    "import sys\n",
    "\n",
    "from solutions.euler.util.decorators import timed_function\n",
    "\n",
    "logging.basicConfig(stream=sys.stderr, level=logging.INFO)\n",
    "assert timed_function(q9_improved)() == 31875000"
   ],
   "metadata": {
    "collapsed": false,
    "ExecuteTime": {
     "end_time": "2024-07-21T13:35:32.053657Z",
     "start_time": "2024-07-21T13:35:32.048809Z"
    }
   },
   "id": "9669998f17b1dc43"
  },
  {
   "cell_type": "markdown",
   "source": [
    "# Euclid's Formula\n",
    "Then comes euclid's formula. We can rewrite a, b, c such that\n",
    "\n",
    "$\n",
    "a = m^2 - n^2\\\\\n",
    "b = 2mn\\\\\n",
    "c = m^2 + n^2\n",
    "$\n",
    "\n",
    "which will satisfy the original pythagoras equation $a^2 + b^2 = c^2$. Here comes the genius part -- if $m, n$ are all coprime, the triple $a, b, c$ generated will all be coprime also. And it can be shown that coprime pairs of m, n that only 1 of them are odd will generate all primitive pythagorean triples. They can then be multiplied out (by k) to generate non-primitive pythagorean triples."
   ],
   "metadata": {
    "collapsed": false
   },
   "id": "53615c9665691d50"
  },
  {
   "cell_type": "code",
   "execution_count": 3,
   "outputs": [
    {
     "name": "stdout",
     "output_type": "stream",
     "text": [
      "Generating all pythagorean triple that has perimeter < 100\n",
      "Primitive Triplet: (3, 4, 5), m,n= (2, 1)\n",
      "  - (3, 4, 5)\n",
      "  - (6, 8, 10)\n",
      "  - (9, 12, 15)\n",
      "  - (12, 16, 20)\n",
      "  - (15, 20, 25)\n",
      "  - (18, 24, 30)\n",
      "  - (21, 28, 35)\n",
      "  - (24, 32, 40)\n",
      "Primitive Triplet: (5, 12, 13), m,n= (3, 2)\n",
      "  - (5, 12, 13)\n",
      "  - (10, 24, 26)\n",
      "  - (15, 36, 39)\n",
      "Primitive Triplet: (15, 8, 17), m,n= (4, 1)\n",
      "  - (15, 8, 17)\n",
      "  - (30, 16, 34)\n",
      "Primitive Triplet: (7, 24, 25), m,n= (4, 3)\n",
      "  - (7, 24, 25)\n",
      "Primitive Triplet: (21, 20, 29), m,n= (5, 2)\n",
      "  - (21, 20, 29)\n",
      "Primitive Triplet: (9, 40, 41), m,n= (5, 4)\n",
      "  - (9, 40, 41)\n",
      "Primitive Triplet: (35, 12, 37), m,n= (6, 1)\n",
      "  - (35, 12, 37)\n"
     ]
    }
   ],
   "source": [
    "from solutions.revisit.p9 import generate_coprime_pairs\n",
    "\n",
    "\n",
    "def euclid_formula(upper_bound):\n",
    "\tfor m, n in generate_coprime_pairs(upper_bound=int(upper_bound ** 0.5) + 1):\n",
    "\t\tif 1 != (number_of_odd := len(list(filter(lambda x: x % 2 == 0, (m, n))))):\n",
    "\t\t\tcontinue\n",
    "\n",
    "\t\ta = m * m - n * n\n",
    "\t\tb = 2 * m * n\n",
    "\t\tc = m * m + n * n\n",
    "\n",
    "\t\tassert a * a + b * b == c * c\n",
    "\t\tfor k in range(1, (upper_bound // (a + b + c)) + 1):\n",
    "\t\t\tif k == 1:\n",
    "\t\t\t\tprint(f\"Primitive Triplet: {a, b, c}, m,n= {m, n}\")\n",
    "\n",
    "\t\t\tka, kb, kc = k * a, k * b, k * c\n",
    "\t\t\tprint(f\"  - {ka, kb, kc}\")\n",
    "\n",
    "\n",
    "N = 100\n",
    "print(f\"Generating all pythagorean triple that has perimeter < {N}\")\n",
    "euclid_formula(N)"
   ],
   "metadata": {
    "collapsed": false,
    "ExecuteTime": {
     "end_time": "2024-07-21T13:35:32.057269Z",
     "start_time": "2024-07-21T13:35:32.052120Z"
    }
   },
   "id": "1d53e757c472e3b1"
  },
  {
   "cell_type": "markdown",
   "source": [
    "## Improving Euclid's formula?\n",
    "Question -- by generating corpime pairs of $m,n$ (and also satisfy only 1 of them are odd) we can generate all primitive pythagoras triplet. This in turn by multiplying k, we can generate all pythagorean triples.\n",
    "\n",
    "Can we skip the co-prime pair generation (of $m, n$) by iterating through all numbers of $m, n$?"
   ],
   "metadata": {
    "collapsed": false
   },
   "id": "5a2b35dc5337580"
  },
  {
   "cell_type": "code",
   "execution_count": 4,
   "outputs": [
    {
     "name": "stdout",
     "output_type": "stream",
     "text": [
      "Simpler: [(3, 4, 5), (5, 12, 13), (6, 8, 10), (8, 15, 17), (12, 16, 20)]\n",
      "Primitive: [(3, 4, 5), (5, 12, 13), (6, 8, 10), (8, 15, 17), (9, 12, 15), (12, 16, 20)]\n"
     ]
    }
   ],
   "source": [
    "def euclid_formula_2(upper_bound):\n",
    "\tall_triples = set()\n",
    "\n",
    "\tfor m in range(2, upper_bound):\n",
    "\t\tfor n in range(1, m):\n",
    "\t\t\ta = m * m - n * n\n",
    "\t\t\tb = 2 * m * n\n",
    "\t\t\tc = m * m + n * n\n",
    "\n",
    "\t\t\tif (perimeter := a + b + c) > upper_bound:\n",
    "\t\t\t\tbreak\n",
    "\n",
    "\t\t\tall_triples.add(tuple(sorted((a, b, c))))\n",
    "\n",
    "\treturn all_triples\n",
    "\n",
    "\n",
    "def euclid_formula(upper_bound):\n",
    "\tall_triples = set()\n",
    "\n",
    "\tfor m, n in generate_coprime_pairs(upper_bound=int(upper_bound ** 0.5) + 1):\n",
    "\t\tif 1 != (number_of_odd := len(list(filter(lambda x: x % 2 == 0, (m, n))))):\n",
    "\t\t\tcontinue\n",
    "\n",
    "\t\ta = m * m - n * n\n",
    "\t\tb = 2 * m * n\n",
    "\t\tc = m * m + n * n\n",
    "\n",
    "\t\tfor k in range(1, (upper_bound // (a + b + c)) + 1):\n",
    "\t\t\tka, kb, kc = k * a, k * b, k * c\n",
    "\t\t\tif (ka + kb + kc) <= upper_bound:\n",
    "\t\t\t\tall_triples.add(tuple(sorted((ka, kb, kc))))\n",
    "\n",
    "\treturn all_triples\n",
    "\n",
    "\n",
    "print(f'Simpler: {sorted(euclid_formula_2(50))}')\n",
    "print(f'Primitive: {sorted(euclid_formula(50))}')"
   ],
   "metadata": {
    "collapsed": false,
    "ExecuteTime": {
     "end_time": "2024-07-21T13:35:32.060761Z",
     "start_time": "2024-07-21T13:35:32.057210Z"
    }
   },
   "id": "6f2a76a56d49a884"
  },
  {
   "cell_type": "markdown",
   "source": [
    "We can see that the difference is (9, 12, 15).\n",
    "$\n",
    "a = m^2 - n^2 \\\\\n",
    "c = m^2 + n^2 \\\\\n",
    "a + c = 2*m^2 \\\\\n",
    "9 + 15 = 2*m^2 \\\\\n",
    "24 = 2 * m ^ 2 \\\\\n",
    "\\sqrt{12} = m\n",
    "$\n",
    "We can see that m has to be irrational to create this pair. This (by approach) shows that we need coprime pairs to generate all primitive triples (and then to multiply them out)"
   ],
   "metadata": {
    "collapsed": false
   },
   "id": "4af8d07b15e52cf4"
  },
  {
   "cell_type": "markdown",
   "source": [
    "# HackerRank\n",
    "So HackerRank has Project Euler also, which allows us test against more inputs. Project Euler checks our solution against only 1 set of input (and output) so we can have got-to-solution situation, but wasn't functionally correct situation.\n",
    "\n",
    "q9_improved timed out as the complexity is quadratic (although bound), and so when perimeter becomes sufficiently large, it starts failing\n",
    "\n",
    "euclid_formula version passes, although it has a pre-compute phase, which is fairly expensive. I'm sure the search space could be tightened (by examining the input, and only computing relevant \"ranges\"), but I didn't feel the need to. It passes, but not the fastest solution.\n",
    "\n",
    "Then I came across another solution on HackerRank (publicly available anyway) so I enclose it here also. "
   ],
   "metadata": {
    "collapsed": false
   },
   "id": "c19bf227dccd2faa"
  },
  {
   "cell_type": "code",
   "execution_count": 5,
   "outputs": [],
   "source": [
    "from solutions.revisit.p9 import generate_coprime_pairs\n",
    "\n",
    "N = 3000\n",
    "\n",
    "\n",
    "def euclid_formula(upper_bound=N):\n",
    "\tmultipliers = {}\n",
    "\tfor m, n in generate_coprime_pairs(upper_bound=int(upper_bound ** 0.5) + 1):\n",
    "\t\tif 1 != (number_of_odd := len(list(filter(lambda x: x % 2 == 0, (m, n))))):\n",
    "\t\t\tcontinue\n",
    "\n",
    "\t\ta = m * m - n * n\n",
    "\t\tb = 2 * m * n\n",
    "\t\tc = m * m + n * n\n",
    "\n",
    "\t\tassert a * a + b * b == c * c\n",
    "\t\tfor k in range(1, (upper_bound // (a + b + c)) + 1):\n",
    "\t\t\tka, kb, kc = k * a, k * b, k * c\n",
    "\t\t\tkS, kM = ka + kb + kc, ka * kb * kc\n",
    "\n",
    "\t\t\tmultipliers[kS] = max(multipliers.get(kS, -1), kM)\n",
    "\n",
    "\treturn multipliers\n",
    "\n",
    "\n",
    "def reference_solution(n):\n",
    "\t\"\"\"\n",
    "\tThis is the reference solution I found online in HackerRank, that uses clever optimisation\n",
    "\thttps://www.hackerrank.com/contests/projecteuler/challenges/euler009/forum/comments/1136234\n",
    "\t\tExplanation of it is in the cell below\n",
    "\t\"\"\"\n",
    "\tif n % 2 != 0:\n",
    "\t\treturn -1\n",
    "\n",
    "\tm = -1\n",
    "\tfor a in range(1, (n // 3) + 1):\n",
    "\t\tb = n * (n - 2 * a) // (2 * (n - a))\n",
    "\t\tc = n - a - b\n",
    "\t\tif a ** 2 + b ** 2 == c ** 2:\n",
    "\t\t\tm = max(m, a * b * c)\n",
    "\n",
    "\treturn m\n",
    "\n",
    "\n",
    "generated = euclid_formula()\n",
    "for i in range(N):\n",
    "\tif (result := generated.get(i, -1)) != (answer := reference_solution(i)):\n",
    "\t\tprint(i, result, answer)\n"
   ],
   "metadata": {
    "collapsed": false,
    "ExecuteTime": {
     "end_time": "2024-07-21T13:35:32.178046Z",
     "start_time": "2024-07-21T13:35:32.114307Z"
    }
   },
   "id": "ae5c56f0c779b5e1"
  },
  {
   "cell_type": "markdown",
   "source": [
    "### Reference Solution\n",
    "The credit goes to https://www.hackerrank.com/contests/projecteuler/challenges/euler009/forum/comments/1136234. This is simply a transcription / slightly editing here and there for my own understanding.  \n",
    "\n",
    "$\n",
    "a ^ 2 + b ^ 2 = c ^ 2 \\\\\n",
    "a^2 = c^2 - b^2 \\\\\n",
    "a^2 = (c + b) * (c - b) \\\\\n",
    "$\n",
    "\n",
    "it shows us\n",
    "$\n",
    "a^2 = (n - a) * (c - b)\n",
    "$\n",
    "\n",
    "if $c$ and $b$ must be integer then $ a^2 % (n - a) $ must be zero (otherwise $a$ is not valid)\n",
    "\n",
    "and we can calculate \\( c - b \\) by \n",
    "$ \\frac{a^2}{n - a} = \\text{diff} $\n",
    "\n",
    "then we can find \\( c \\) by\n",
    "\n",
    "$ \n",
    "c + b = n - a \\\\\n",
    "c - b = \\text{diff} \\\\\n",
    "c = \\frac{(n - a) + \\text{diff}}{2} \\quad \\text{(c must be an integer, otherwise it is not valid)} \n",
    "$\n",
    "\n",
    "so far we know $ n $, $ a $, and $ c $\n",
    "\n",
    "$ b = n - a - c $\n",
    "\n",
    "then we can calculate the product."
   ],
   "metadata": {
    "collapsed": false
   },
   "id": "adba018f461eff47"
  },
  {
   "cell_type": "markdown",
   "source": [],
   "metadata": {
    "collapsed": false
   },
   "id": "ebc3ea21dd4251db"
  },
  {
   "cell_type": "markdown",
   "source": [],
   "metadata": {
    "collapsed": false
   },
   "id": "9bbe723ea444ff9c"
  }
 ],
 "metadata": {
  "kernelspec": {
   "display_name": "Python 3",
   "language": "python",
   "name": "python3"
  },
  "language_info": {
   "codemirror_mode": {
    "name": "ipython",
    "version": 2
   },
   "file_extension": ".py",
   "mimetype": "text/x-python",
   "name": "python",
   "nbconvert_exporter": "python",
   "pygments_lexer": "ipython2",
   "version": "2.7.6"
  }
 },
 "nbformat": 4,
 "nbformat_minor": 5
}
