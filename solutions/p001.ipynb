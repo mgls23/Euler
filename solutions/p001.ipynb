{
 "cells": [
  {
   "cell_type": "markdown",
   "metadata": {
    "collapsed": false
   },
   "source": [
    "# [Problem 1: Multiples of 3 and 5](https://projecteuler.net/problem=1)\n",
    " > <p>If we list all the natural numbers below 10 that are multiples of 3 or 5, we get 3, 5, 6 and 9. The sum of these multiples is 23.</p>\n",
    " >\n",
    " > <p>Find the sum of all the multiples of 3 or 5 below 1000.</p>\n",
    " > <p>\n",
    "<p>\n",
    "\n",
    "## FizzBuzz\n",
    "Finding the multiples of 3s and 5s is a very similar problem to the classic fizz buzz problem, a drinking game we play as first year of university students. It's also the problem that I've heard \"you'll be surprised how many people applying for SWE position can't solve a simple Fizz Buzz problem\" multiple times. \n",
    "<p>\n",
    "Well let's put that to the test"
   ]
  },
  {
   "cell_type": "code",
   "execution_count": 1,
   "metadata": {
    "collapsed": false,
    "ExecuteTime": {
     "end_time": "2023-10-09T10:49:52.784023Z",
     "start_time": "2023-10-09T10:49:52.774658Z"
    }
   },
   "outputs": [],
   "source": [
    "def fizz_buzz(x, lower_bound=2, fizz=3, buzz=5):\n",
    "\treturn [number for number in range(lower_bound, x + 1) if (number % fizz) == 0 or (number % buzz) == 0]"
   ]
  },
  {
   "cell_type": "code",
   "execution_count": null,
   "outputs": [],
   "source": [],
   "metadata": {
    "collapsed": false
   }
  },
  {
   "cell_type": "markdown",
   "metadata": {
    "collapsed": false
   },
   "source": [
    "I'm sure I just passed your rigorous interview bar, but let's not pop champagnes yet. We have some maths to do.\n",
    "\n",
    "Of course many variations of these problems exist. We can print fizz, buzz or FizzBuzz (on multiples of 15 - this becomes important later).\n",
    "\n",
    "More importantly, since this is the first problem, it's worth digging into the finer details. I'm sure this might be different from how most people might have written up the solution. I'm going to focus on the basic problem (the one that focuses on finding the sum)\n",
    "\n",
    "There's a great video by mCoding that explains why a naive solution that Programmers not from Python Background is used to is (not very Pythonic)[https://www.youtube.com/watch?v=Qgevy75co8c].  "
   ]
  },
  {
   "cell_type": "markdown",
   "source": [],
   "metadata": {
    "collapsed": false
   }
  },
  {
   "cell_type": "code",
   "execution_count": 6,
   "metadata": {
    "collapsed": false,
    "ExecuteTime": {
     "end_time": "2023-10-09T10:50:17.666762Z",
     "start_time": "2023-10-09T10:50:17.659583Z"
    }
   },
   "outputs": [],
   "source": [
    "def multiples_of_3s_and_5s_using_while_loop():\n",
    "\t\"\"\" This is very UnPythonic \"\"\"\n",
    "\ti = 0\n",
    "\tsum_ = 0\n",
    "\twhile i < 1000:\n",
    "\t\tif i % 3 == 0 or i % 5 == 0:\n",
    "\t\t\tsum_ += i\n",
    "\t\t\n",
    "\t\ti += 1\n",
    "\n",
    "\treturn i"
   ]
  },
  {
   "cell_type": "markdown",
   "metadata": {
    "collapsed": false
   },
   "source": [
    "However, in our spirit of [functional programming](https://stackoverflow.com/questions/1017621/why-isnt-python-very-good-for-functional-programming) we could do something like"
   ]
  },
  {
   "cell_type": "code",
   "execution_count": 7,
   "metadata": {
    "collapsed": false,
    "ExecuteTime": {
     "end_time": "2023-10-09T10:50:19.931291Z",
     "start_time": "2023-10-09T10:50:19.926540Z"
    }
   },
   "outputs": [],
   "source": [
    "def multiples_of_3s_and_5s_using_sum(upper_bound=1000):\n",
    "\tdivisible_by_3_or_5 = lambda x: x % 3 == 0 or x % 5 == 0\n",
    "\treturn sum(filter(divisible_by_3_or_5, range(upper_bound)))"
   ]
  },
  {
   "cell_type": "code",
   "execution_count": 8,
   "metadata": {
    "collapsed": false,
    "ExecuteTime": {
     "end_time": "2023-10-09T10:50:20.289556Z",
     "start_time": "2023-10-09T10:50:20.285325Z"
    }
   },
   "outputs": [],
   "source": [
    "# from all_solutions import q1\n",
    "# see q1.sigma_n_with_multiplier"
   ]
  },
  {
   "cell_type": "markdown",
   "source": [
    "## Guassian Summation\n",
    "The famous legend is that Gauss, when asked to solve the sum of 1 to 100, with the assumption that it would take him all day, was able to solve this in a moment. The comic-book I've seen as a child has an illustration of a lazy teacher wanting to finish his sandwich in his break, while Gauss solves the question and tries to wander off, when he gets confronted.\n",
    "1\n",
    "Anyway, the point is, Gauss was able to solve this problem by noticing that the 1 and 100 (N) makes a pair (N+1), and so did 2 and 99 (N+2). The left hand side decreases by 1 when the right hand side increases by 1. There are 50 (N//2) of those pairs, so we can do N * (N+1) // 2 to get the answer.\n",
    "\n",
    "Why is this relevant here? well, we can see that multiples of 3s are...\n",
    "$\n",
    "\\qquad \\ \\ 3\\quad + \\quad 6\\quad\\ + \\quad \\ 9\\quad\\ + \\quad 12\\quad+ ...\\quad\\ \\ 3n \\\\\n",
    "= (3 \\times 1) + (3 \\times 2) + (3 \\times 3) + (3 \\times 4) +   ...\\quad (3\\times n)\n",
    "$\n",
    "which really ends up becoming\n",
    "$\n",
    "3 \\times (1 + 2 + 3 + ...\\ n) = 3 \\times \\sum_{i=1}^{n}i \\\\\n",
    "$\n",
    "Take note that \"n\" should change - from the upper_bound given in the problem (1000) to the largest multiple of 3 that is smaller than 1000. Since we have to do the same for 5, we should write a function that calculates the sum."
   ],
   "metadata": {
    "collapsed": false
   }
  },
  {
   "cell_type": "markdown",
   "source": [
    "So naively thinking we're done here is wishful thinking (and irresponsible coding!) as we can come to the conclusion that we're adding multiples of 15 twice. The problem purposefully avoids listing number until 15, so we can have some fun figuring this out (also note that it's partially implied by fizz-or-buzz). \n",
    "\n",
    "And implementing this (in python script file) we can get to the answer."
   ],
   "metadata": {
    "collapsed": false
   }
  },
  {
   "cell_type": "code",
   "execution_count": 2,
   "outputs": [
    {
     "name": "stdout",
     "output_type": "stream",
     "text": [
      "233168\n"
     ]
    }
   ],
   "source": [
    "from all_solutions import q1\n",
    "print(q1())"
   ],
   "metadata": {
    "collapsed": false,
    "ExecuteTime": {
     "end_time": "2023-10-09T10:57:34.531200Z",
     "start_time": "2023-10-09T10:57:34.529500Z"
    }
   }
  }
 ],
 "metadata": {
  "kernelspec": {
   "display_name": "venv3",
   "language": "python",
   "name": "python3"
  },
  "language_info": {
   "codemirror_mode": {
    "name": "ipython",
    "version": 3
   },
   "file_extension": ".py",
   "mimetype": "text/x-python",
   "name": "python",
   "nbconvert_exporter": "python",
   "pygments_lexer": "ipython3",
   "version": "3.11.5"
  }
 },
 "nbformat": 4,
 "nbformat_minor": 2
}
