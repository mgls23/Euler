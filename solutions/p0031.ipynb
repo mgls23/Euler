{
 "cells": [
  {
   "cell_type": "markdown",
   "metadata": {},
   "source": [
    "# Project Euler #31: Coin Sums\n",
    "\n",
    "## Problem Statement\n",
    "\n",
    "In England the currency is made up of pound, £, and pence, p, and there are eight coins in general circulation:\n",
    "1p, 2p, 5p, 10p, 20p, 50p, £1 (100p) and £2 (200p).\n",
    "\n",
    "How many different ways can £2 be made using any number of coins?\n",
    "\n",
    "## Journey: From Brute Force to Dynamic Programming"
   ]
  },
  {
   "cell_type": "markdown",
   "metadata": {},
   "source": [
    "## Initial Attempt (2016)\n",
    "\n",
    "My first approach attempted to generate all possible combinations through recursion:"
   ]
  },
  {
   "cell_type": "code",
   "execution_count": null,
   "metadata": {},
   "outputs": [],
   "source": [
    "# Original 2019 implementation\n",
    "import logging\n",
    "import math\n",
    "\n",
    "RESULTS = {}\n",
    "HEY = {}\n",
    "\n",
    "def _permutations(number, coins_available, paths=None):\n",
    "    \"\"\" Brute-force method \"\"\"\n",
    "    if paths is None: paths = [[]]\n",
    "    \n",
    "    if number < 0: return False, None\n",
    "    if number == 0: return True, []\n",
    "    if number in RESULTS: return True, RESULTS[number]\n",
    "    \n",
    "    result = []\n",
    "    for coin in coins_available:\n",
    "        valid, path_generated = _permutations(number - coin, coins_available, paths)\n",
    "        if not valid: break\n",
    "        result.extend(path + [coin] for path in path_generated)\n",
    "        if not path_generated: result.append([coin])\n",
    "    \n",
    "    logging.debug(f'Finished {number}')\n",
    "    RESULTS[number] = result\n",
    "    return True, result"
   ]
  },
  {
   "cell_type": "markdown",
   "metadata": {},
   "source": [
    "### Critical Evaluation of Initial Approach\n",
    "\n",
    "**Shortcomings identified:**\n",
    "\n",
    "1. **Conceptual confusion**: Named the function `_permutations` but was actually trying to solve a combinations problem\n",
    "2. **Inefficient data structures**: Generating all paths explicitly rather than just counting\n",
    "3. **Poor naming conventions**: Variables like `HEY` and function names like `better()` lack clarity\n",
    "4. **Overengineered returns**: Using `(valid, result)` tuples when just the result would suffice\n",
    "5. **Missing optimization**: Not recognizing this as a classic dynamic programming problem"
   ]
  },
  {
   "cell_type": "markdown",
   "metadata": {},
   "source": [
    "## The Connection: Climbing Stairs Pattern\n",
    "\n",
    "After working on similar recursion problems (particularly the climbing stairs problem), I recognized the pattern:\n",
    "\n",
    "- **Climbing Stairs**: Count ways to reach step n using steps of size {1, 2}\n",
    "- **Coin Sums**: Count ways to make amount n using coins of denomination {c1, c2, ...}\n",
    "\n",
    "Both follow the same recursive structure:\n",
    "- Base case: One way to make 0 (use nothing)\n",
    "- Recursive case: Sum of ways when including/excluding each option\n",
    "\n",
    "The key difference:\n",
    "- **Climbing stairs** counts **permutations** (order matters)\n",
    "- **Coin sums** counts **combinations** (order doesn't matter)"
   ]
  },
  {
   "metadata": {},
   "cell_type": "markdown",
   "source": "## First Attempt (2019)"
  },
  {
   "metadata": {},
   "cell_type": "code",
   "outputs": [],
   "execution_count": null,
   "source": [
    "HEY = {}\n",
    "\n",
    "\n",
    "def digit_sum(number, coins, max_coin):\n",
    "\tavailable_coins = sorted(list(filter(lambda coin_: coin_ <= max_coin, coins)))\n",
    "\n",
    "\tresult = []\n",
    "\tfor coin in available_coins:\n",
    "\t\tif coin == 1:\n",
    "\t\t\tresult.append([1] * number)\n",
    "\t\t\tcontinue\n",
    "\n",
    "\t\tupper_range = math.floor(number / coin) + 1\n",
    "\n",
    "\t\tfor multiplier in range(1, upper_range):\n",
    "\t\t\tremainder = number - coin * multiplier\n",
    "\t\t\tif remainder < 0: break\n",
    "\t\t\tvalid, possibles = better(remainder, coins, coins[coins.card_at(coin) - 1])\n",
    "\t\t\tif not valid: return result\n",
    "\t\t\tresult.extend([coin] * multiplier + possible for possible in possibles)\n",
    "\t\t\tif not possibles: result.append([coin] * multiplier)\n",
    "\n",
    "\treturn result\n",
    "\n",
    "\n",
    "def better(number, coins, max_coin=None):\n",
    "\tif max_coin is None: max_coin = max(coins)\n",
    "\n",
    "\tavailable_coins = sorted(list(filter(lambda c: c <= max_coin, coins)))\n",
    "\tif not available_coins: return False, [[]]\n",
    "\tif number == 0: return True, [[]]\n",
    "\n",
    "\tmemoization_key = (number, max_coin)\n",
    "\tif memoization_key in HEY: return True, HEY[memoization_key]\n",
    "\n",
    "\tresult = digit_sum(number, coins, max_coin)\n",
    "\t# print(f'(number, max_coin)={memoization_key}, result={result}')\n",
    "\n",
    "\tHEY[memoization_key] = result\n",
    "\treturn True, result\n",
    "\n",
    "\n",
    "# noinspection PyDefaultArgument\n",
    "def coin_sums_legacy(coin_total, coins_available):\n",
    "\t_, paths = better(coin_total, sorted(coins_available))\n",
    "\n",
    "\tunique_combinations = {tuple(sorted(path)) for path in paths}\n",
    "\n",
    "\treturn len(unique_combinations)\n",
    "\n",
    "\n",
    "def combinations_debug(number, coins_available, reverse=True):\n",
    "\t_, paths = better(number, sorted(coins_available))\n",
    "\n",
    "\tunique_combinations = {tuple(sorted(path, reverse=reverse)) for path in paths}\n",
    "\tfor path in sorted(unique_combinations, reverse=reverse): print(path)\n",
    "\n",
    "\treturn len(unique_combinations), sorted(unique_combinations, reverse=reverse)"
   ]
  },
  {
   "cell_type": "markdown",
   "metadata": {},
   "source": [
    "## Modern Solution: Dynamic Programming\n",
    "\n",
    "With better understanding of DP patterns, here's the optimized approach:"
   ]
  },
  {
   "cell_type": "code",
   "execution_count": null,
   "metadata": {},
   "outputs": [],
   "source": [
    "def coin_sums(target: int, coins: list[int]) -> int:\n",
    "    \"\"\"\n",
    "    Count the number of ways to make target amount using given coins.\n",
    "    \n",
    "    Uses dynamic programming to build up solutions from smaller amounts.\n",
    "    Key insight: Process coins systematically to avoid counting duplicates.\n",
    "    \n",
    "    Time: O(target * len(coins))\n",
    "    Space: O(target)\n",
    "    \"\"\"\n",
    "    # dp[i] represents number of ways to make amount i\n",
    "    dp = [0] * (target + 1)\n",
    "    dp[0] = 1  # Base case: one way to make 0\n",
    "    \n",
    "    # Process each coin denomination\n",
    "    for coin in coins:\n",
    "        # Update all amounts this coin can contribute to\n",
    "        for amount in range(coin, target + 1):\n",
    "            dp[amount] += dp[amount - coin]\n",
    "    \n",
    "    return dp[target]\n",
    "\n",
    "# Solve Project Euler #31\n",
    "def solve():\n",
    "    target = 200  # £2 in pence\n",
    "    coins = [1, 2, 5, 10, 20, 50, 100, 200]\n",
    "    return coin_sums(target, coins)\n",
    "\n",
    "answer = solve()\n",
    "print(f\"Number of ways to make £2: {answer}\")"
   ]
  },
  {
   "cell_type": "markdown",
   "metadata": {},
   "source": [
    "## Alternative Approach: Top-Down with Memoization\n",
    "\n",
    "For completeness, here's the recursive approach with proper memoization:"
   ]
  },
  {
   "cell_type": "code",
   "execution_count": null,
   "metadata": {},
   "outputs": [],
   "source": [
    "from functools import lru_cache\n",
    "\n",
    "def coin_sums_recursive(target: int, coins: list[int]) -> int:\n",
    "    \"\"\"\n",
    "    Recursive solution with memoization.\n",
    "    Process coins in order to ensure we count combinations, not permutations.\n",
    "    \"\"\"\n",
    "    coins_tuple = tuple(coins)  # For hashability in cache\n",
    "    \n",
    "    @lru_cache(maxsize=None)\n",
    "    def count_ways(amount: int, coin_index: int) -> int:\n",
    "        # Base cases\n",
    "        if amount == 0:\n",
    "            return 1\n",
    "        if amount < 0 or coin_index >= len(coins_tuple):\n",
    "            return 0\n",
    "        \n",
    "        # Include current coin or skip to next\n",
    "        include = count_ways(amount - coins_tuple[coin_index], coin_index)\n",
    "        exclude = count_ways(amount, coin_index + 1)\n",
    "        \n",
    "        return include + exclude\n",
    "    \n",
    "    return count_ways(target, 0)\n",
    "\n",
    "# Verify with alternative approach\n",
    "answer_recursive = coin_sums_recursive(200, [1, 2, 5, 10, 20, 50, 100, 200])\n",
    "print(f\"Recursive solution: {answer_recursive}\")"
   ]
  },
  {
   "cell_type": "markdown",
   "metadata": {},
   "source": [
    "## Complexity Analysis\n",
    "\n",
    "### Bottom-Up DP\n",
    "- **Time**: O(n × m) where n = target amount, m = number of coins\n",
    "- **Space**: O(n) for the DP array\n",
    "\n",
    "### Top-Down Recursive\n",
    "- **Time**: O(n × m) with memoization\n",
    "- **Space**: O(n × m) for the cache + O(m) for recursion stack\n",
    "\n",
    "The bottom-up approach is preferred for better space efficiency."
   ]
  },
  {
   "cell_type": "markdown",
   "metadata": {},
   "source": [
    "## Testing with Smaller Examples\n",
    "\n",
    "Let's verify our solution with smaller, traceable examples:"
   ]
  },
  {
   "cell_type": "code",
   "execution_count": null,
   "metadata": {},
   "outputs": [],
   "source": [
    "def test_coin_sums():\n",
    "    test_cases = [\n",
    "        # (target, coins, expected)\n",
    "        (4, [1, 2], 3),  # {1,1,1,1}, {1,1,2}, {2,2}\n",
    "        (5, [1, 2, 5], 4),  # {5}, {2,2,1}, {2,1,1,1}, {1,1,1,1,1}\n",
    "        (10, [2, 5, 10], 2),  # {10}, {5,5}\n",
    "    ]\n",
    "    \n",
    "    for target, coins, expected in test_cases:\n",
    "        result = coin_sums(target, coins)\n",
    "        status = \"✓\" if result == expected else \"✗\"\n",
    "        print(f\"{status} Target={target}, Coins={coins}: Got {result}, Expected {expected}\")\n",
    "\n",
    "test_coin_sums()"
   ]
  },
  {
   "cell_type": "markdown",
   "metadata": {},
   "source": [
    "## Evolution Summary\n",
    "\n",
    "The journey from the 2019 implementation to the current solution demonstrates key improvements:\n",
    "\n",
    "1. **Pattern Recognition**: Identifying this as a classic DP problem similar to climbing stairs\n",
    "2. **Clarity**: Clean, self-documenting code with proper naming\n",
    "3. **Efficiency**: From generating all paths to just counting (exponential space → linear space)\n",
    "4. **Understanding**: Clear distinction between combinations and permutations\n",
    "5. **Simplicity**: Removed unnecessary complexity while maintaining correctness\n",
    "\n",
    "The modern solution is not just more efficient—it's more maintainable and demonstrates a deeper understanding of the underlying algorithmic patterns."
   ]
  }
 ],
 "metadata": {
  "kernelspec": {
   "display_name": "Python 3",
   "language": "python",
   "name": "python3"
  },
  "language_info": {
   "codemirror_mode": {
    "name": "ipython",
    "version": 3
   },
   "file_extension": ".py",
   "mimetype": "text/x-python",
   "name": "python",
   "nbconvert_exporter": "python",
   "pygments_lexer": "ipython3",
   "version": "3.11.0"
  }
 },
 "nbformat": 4,
 "nbformat_minor": 4
}
