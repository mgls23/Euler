{
 "cells": [
  {
   "cell_type": "markdown",
   "source": [
    "# Euler Totient Function\n",
    "\n",
    "## Co-prime\n",
    "The concept of coprime numbers (also known as relatively prime or mutually prime numbers) refers to a pair of integers that have no common positive integer factors other than 1. In other words, the greatest common divisor (GCD) of two coprime numbers is 1.\n",
    "\n",
    "1 is coprime with every number\n",
    "\n",
    "## Case 1: Prime number $p$\n",
    "If $n$ is a prime number ($p$), then every number less than $p$ is relatively prime to $p$\n",
    "$\n",
    "\\phi(p) = p - 1\n",
    "$\n",
    "\n",
    "Intuitively, this works because 1 is coprime with every number and prime number is coprime with itself. And by definition, it cannot be coprime with any other number in between (because that is the definition of prime number)\n",
    "\n",
    "## Case 2: Power of Prime $p^k$\n",
    "If $n$ is the power of a prime number $p^k$ \n",
    "\n",
    "$\n",
    "\\phi(p^k) = p^k - p^{k-1} = p^k\\left(1 - \\frac{1}{p}\\right)\n",
    "$\n",
    "\n",
    "\n",
    "### Example (p=3, k=2)\n",
    "Let's take the example of 9 ($=3^2$). Enumerating the example, we can see that:\n",
    "- 1 is not coprime\n",
    "- 2 is coprime\n",
    "- 3 is *not* coprime\n",
    "- 4 is coprime\n",
    "- 5 is coprime\n",
    "- 6 is *not* coprime\n",
    "- 7 is coprime\n",
    "- 8 is coprime\n",
    "- 9 is *not* coprime\n",
    "\n",
    "1,2,4,5,7,8 are coprime to 9, which is 6. The 3 that we are subtracting are essentially 3,6,9, which are multiples of 3 under (inclusive) of 9. This is 9 ($p^k$) / 3($p$) = $p^k - p^1 = p^{k-1}$\n",
    "\n",
    "Since we are subtracting that from the original ($p^k$), we have\n",
    "$\n",
    "p^k - p^{k-1}\n",
    "$\n",
    "\n",
    "Therefore, it is the same as the above\n",
    "$\n",
    "ϕ(9) = ϕ(3^2) = 3^2 −3^1 = 9−3 = 6\n",
    "$\n",
    "\n",
    "### Case 3: Multiplication "
   ],
   "metadata": {
    "collapsed": false
   },
   "id": "1d8ff57ed4df5386"
  },
  {
   "cell_type": "code",
   "execution_count": null,
   "outputs": [],
   "source": [],
   "metadata": {
    "collapsed": false
   },
   "id": "d10a7d06b2caa4e9"
  }
 ],
 "metadata": {
  "kernelspec": {
   "display_name": "Python 3",
   "language": "python",
   "name": "python3"
  },
  "language_info": {
   "codemirror_mode": {
    "name": "ipython",
    "version": 2
   },
   "file_extension": ".py",
   "mimetype": "text/x-python",
   "name": "python",
   "nbconvert_exporter": "python",
   "pygments_lexer": "ipython2",
   "version": "2.7.6"
  }
 },
 "nbformat": 4,
 "nbformat_minor": 5
}
