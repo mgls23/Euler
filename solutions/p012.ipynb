{
 "cells": [
  {
   "cell_type": "markdown",
   "source": [
    "# Problem 12: Highly Divisible Triangular Number\n",
    "![problem](img/p0012.png)\n"
   ],
   "metadata": {
    "collapsed": false
   },
   "id": "50faa3e1e127ef62"
  },
  {
   "cell_type": "markdown",
   "source": [
    "## Triangle Numbers\n",
    "All triangle numbers are of the form\n",
    "\n",
    "$\n",
    "T_n = 1 + 2 + 3 + ... + n \\\\\n",
    "T_n = \\frac{n * (n+1)}{2} \n",
    "$\n",
    "\n",
    "This allows us to pretty much halve the search space because we have 2 numbers who are guaranteed to be coprime (as their difference is 1). The idea of number of divisors will be used in conjunction more in later questions (especially with Euler's phi), but for now, we know that if 2 numbers are coprime, the number of divisors are multiplied (to get the original answer)\n",
    "\n",
    "If n is even: $T_n = \\frac{n}{2} \\times (n+1)$\n",
    "If n is odd:  $\\ T_n = n\\times\\frac{(n+1)}{2}$\n"
   ],
   "metadata": {
    "collapsed": false
   },
   "id": "ba459603ea0fdc00"
  },
  {
   "cell_type": "code",
   "execution_count": 9,
   "outputs": [
    {
     "name": "stdout",
     "output_type": "stream",
     "text": [
      "q12()=76576500\n",
      "Took 152.26006507873535 ms\n"
     ]
    }
   ],
   "source": [
    "from solutions.euler.maths.prime import generate_to_sie\n",
    "from solutions.euler.maths.ungrouped import calculate_number_of_divisors\n",
    "\n",
    "\n",
    "def q12(min_divisor_count=500):\n",
    "\tsensible_upper_bound = min_divisor_count ** 2\n",
    "\tprimes = generate_to_sie(sensible_upper_bound)\n",
    "\n",
    "\tfor n in range(1, sensible_upper_bound):\n",
    "\t\tif n % 2 == 0:\n",
    "\t\t\t# n is even\n",
    "\t\t\ta = calculate_number_of_divisors(n // 2, primes)\n",
    "\t\t\tb = calculate_number_of_divisors(n + 1, primes)\n",
    "\t\telse: \n",
    "\t\t\t# n is odd\n",
    "\t\t\ta = calculate_number_of_divisors((n + 1) // 2, primes)\n",
    "\t\t\tb = calculate_number_of_divisors(n, primes)\n",
    "\n",
    "\t\tif (a * b) > min_divisor_count:\n",
    "\t\t\treturn (n * (n + 1)) // 2\n",
    "\n",
    "\n",
    "import logging\n",
    "from solutions.euler.util.decorators import timed_function\n",
    "\n",
    "logging.basicConfig(stream=sys.stderr, level=logging.DEBUG)\n",
    "assert (timed_function(q12)() == 76576500)"
   ],
   "metadata": {
    "collapsed": false,
    "ExecuteTime": {
     "end_time": "2024-07-21T20:24:54.938436Z",
     "start_time": "2024-07-21T20:24:54.806929Z"
    }
   },
   "id": "5538054d22e084a9"
  }
 ],
 "metadata": {
  "kernelspec": {
   "display_name": "Python 3",
   "language": "python",
   "name": "python3"
  },
  "language_info": {
   "codemirror_mode": {
    "name": "ipython",
    "version": 2
   },
   "file_extension": ".py",
   "mimetype": "text/x-python",
   "name": "python",
   "nbconvert_exporter": "python",
   "pygments_lexer": "ipython2",
   "version": "2.7.6"
  }
 },
 "nbformat": 4,
 "nbformat_minor": 5
}
