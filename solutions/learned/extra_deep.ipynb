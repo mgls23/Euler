{
 "cells": [
  {
   "cell_type": "markdown",
   "id": "e03591d0ee284230",
   "metadata": {
    "collapsed": false
   },
   "source": [
    "# Problem 1\n",
    "## Gaussian sum (1+2+3+4+...n)\n",
    "### How did Gauss do it?\n",
    "Who is Gauss you might ask? He's your dad's friend's son that you'll compare yourself to, and always fail at, because he's solved this problem at the rock-born age of 8. He was tasked, by a cover-lesson teacher, who wanted to eat his - sandwich, to add all natural numbers between 1 and 100. \n",
    "\n",
    "So how did he solve it? He noticed that:\n",
    "\n",
    "$\n",
    "1 + 100 = 101 \\\\\n",
    "2 +  99 = 101 \\\\\n",
    "3 +  98 = 101 \\\\  \n",
    "(LHS) + (RHS)\n",
    "$\n",
    "\n",
    "Every time the left hand side (LHS) increased by 1, right hand side (RHS) decrease by 1. So the starting configuration (1 and 100) added together is the sum, and there are 100/2 = 50 pairs of these. So 50 x 101 = 5050 is the right answer.\n",
    "\n",
    "This is of course a simplification, because in this case, there were, fortunately, even number in our sequence, but does it still work in a sequence where the total number is odd? \n",
    "\n",
    "The answer is actually, yes. \n",
    "\n",
    "####  \n",
    "#### Inductive hypothesis (Proof)\n",
    "##### Base Case [n=1]\n",
    "\n",
    "$\n",
    "\\sum_{n=1}^{N} k = \\frac{1 \\times (1+1)}{2} = \\frac{1 \\times 2}{2} = 1\n",
    "$\n",
    "\n",
    "##### Case for n, does it work for n + 1\n",
    "So assume that it works for n,\n",
    "\n",
    "$$\n",
    "\\begin{align}\n",
    "\\sum_{i=1}^{n} k &= \\frac{n \\times (n + 1)}{2} \\\\\n",
    "    &= \\frac{n^2 + n}{2}w\n",
    "\\end{align}\n",
    "$$\n",
    "\n",
    "Substituting n with (n+1), we get\n",
    "$$\n",
    "\\begin{align}\n",
    "\\sum_{i=1}^{n+1} k &= \\frac{(n + 1) \\times ((n + 1) + 1)}{2} \\\\\n",
    "&= \\frac{(n + 1) \\times (n + 2)}{2}\\\\\n",
    "&= \\frac{n^2 + 3n + 2}{2}\n",
    "\\end{align}\n",
    "$$\n",
    "\n",
    "Remember that summation looks like: Minusing the top from the bottom gives you:\n",
    "\n",
    "$\n",
    "\\quad\\sum_{i=1}^{n+1} k = 1 + 2 + ... + (n-1) + n + (n+1)\n",
    "$\n",
    "\n",
    "$\n",
    "-\\sum_{i=1}^{n} k \\;= 1 + 2 + ... + (n-1) + n \\\\\n",
    "\\qquad\\qquad\\;= (n+1)\n",
    "$\n",
    "\n",
    "$$\n",
    "a + b \\\\\n",
    "c + d\n",
    "$$\n",
    "\n"
   ]
  },
  {
   "cell_type": "code",
   "execution_count": null,
   "id": "ebe1a437f32d7314",
   "metadata": {
    "ExecuteTime": {
     "end_time": "2023-10-14T19:43:20.996487Z",
     "start_time": "2023-10-14T19:43:20.994762Z"
    },
    "collapsed": false
   },
   "outputs": [],
   "source": []
  },
  {
   "cell_type": "code",
   "execution_count": null,
   "id": "a4a8dc14fa097868",
   "metadata": {
    "ExecuteTime": {
     "end_time": "2023-10-14T19:43:20.998604Z",
     "start_time": "2023-10-14T19:43:20.997204Z"
    },
    "collapsed": false
   },
   "outputs": [],
   "source": []
  }
 ],
 "metadata": {
  "kernelspec": {
   "display_name": "Python 3",
   "language": "python",
   "name": "python3"
  },
  "language_info": {
   "codemirror_mode": {
    "name": "ipython",
    "version": 2
   },
   "file_extension": ".py",
   "mimetype": "text/x-python",
   "name": "python",
   "nbconvert_exporter": "python",
   "pygments_lexer": "ipython2",
   "version": "2.7.6"
  }
 },
 "nbformat": 4,
 "nbformat_minor": 5
}
