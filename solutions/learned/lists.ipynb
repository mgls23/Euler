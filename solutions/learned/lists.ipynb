{
 "cells": [
  {
   "cell_type": "markdown",
   "metadata": {
    "pycharm": {
     "name": "#%% md\n"
    }
   },
   "source": [
    "# List\n",
    "\n",
    "## Python & Mutability & Lists\n",
    "What would be the output of..."
   ]
  },
  {
   "cell_type": "code",
   "execution_count": 1,
   "metadata": {
    "pycharm": {
     "name": "#%%\n"
    },
    "ExecuteTime": {
     "end_time": "2023-10-08T18:59:52.849884Z",
     "start_time": "2023-10-08T18:59:52.840282Z"
    }
   },
   "outputs": [
    {
     "name": "stdout",
     "output_type": "stream",
     "text": [
      "[1, 2, 3, 4, 5]\n"
     ]
    }
   ],
   "source": [
    "x = [1, 2, 3]\n",
    "\n",
    "def add(list_: list, element):\n",
    "\tlist_.append(element)\n",
    "\n",
    "add(x, 4)\n",
    "add(x, 5)\n",
    "print(x)"
   ]
  },
  {
   "cell_type": "markdown",
   "metadata": {
    "pycharm": {
     "name": "#%% md\n"
    }
   },
   "source": [
    "The answer is - `[1,2,3,4,5]`. `x` is a mutable type in Python and function calls do not create a hard-copy of the object, rather only the soft copy. This means we get a \"pointer\" to `x`, which means any modifications to `list_` in `add` is permanent. Note: unlike other languages, there is no way to mark an argument to a function as read-only (although in C++ for example, that isn't a security enforcement therefore it can be bypassed by sufficiently determined)\n",
    "\n",
    "## Performance\n",
    "### Function calls\n",
    "Normally, we shouldn't have to worry about performances. After-all, that's the whole point of Python - to trade development speed and logical simplicity for extra verbosity, control over the performances.\n",
    "\n",
    "However, list manipulation can be expensive - especially if the list grows sufficiently long enough. One of the most dangerous aspects of this is hard-copy, where we create a new list containing every element from the source list. The most notable use-case of this is dynamic programming where we may wish to simulate adding a different element (or in different order) to a particular list.\n",
    "\n",
    "In dynamic programming functions, we may wish to simulate adding a different element to the list (or in different order!) and we sometimes may want to either pass the list to the helper function (which represents a 'path' taken) or keep it. To demonstrate - see the example below\n",
    "\n",
    "\n",
    "Relevant topics: Dynamic Programming\n",
    "Relevant questions: [q106]\n",
    "#### Approach 1\n",
    "Pass lists as arguments to the helper() function and add a newly created list (with 1 element)"
   ]
  },
  {
   "cell_type": "code",
   "execution_count": 1,
   "metadata": {
    "pycharm": {
     "name": "#%%\n"
    }
   },
   "outputs": [],
   "source": [
    "def _q106_1(a: list):\n",
    "\tmax_len = len(a) // 2\n",
    "\n",
    "\tdef helper(b, c, i):\n",
    "\t\tnonlocal max_len\n",
    "\t\tif len(b) < max_len:\n",
    "\t\t\thelper(b + [a[i]], c, i + 1)\n",
    "\n",
    "\t\tif len(c) < max_len:\n",
    "\t\t\thelper(b, c + [a[i]], i + 1)\n",
    "\n",
    "\thelper(b=[], c=[], i=0)"
   ]
  },
  {
   "cell_type": "markdown",
   "metadata": {
    "pycharm": {
     "name": "#%% md\n"
    }
   },
   "source": [
    "#### Approach 2\n",
    "Maintain a nonlocal list that appends and pops."
   ]
  },
  {
   "cell_type": "code",
   "execution_count": null,
   "metadata": {
    "pycharm": {
     "name": "#%%\n"
    }
   },
   "outputs": [],
   "source": [
    "def _q106_2(a: list):\n",
    "\tb, c = [], []\n",
    "\tmax_len = len(a) // 2\n",
    "\n",
    "\tdef helper(i):\n",
    "\t\tnonlocal max_len\n",
    "\t\tif len(b) < max_len:\n",
    "\t\t\tb.append(a[i])\n",
    "\t\t\thelper(i + 1)\n",
    "\t\t\tb.pop()\n",
    "\n",
    "\t\tif len(c) < max_len:\n",
    "\t\t\tc.append(a[i])\n",
    "\t\t\thelper(i + 1)\n",
    "\t\t\tc.pop()\n",
    "\n",
    "\thelper(i=0)"
   ]
  },
  {
   "cell_type": "markdown",
   "source": [
    "Approach 1 creates a new copy (deepcopy of original added with new element) every `helper()` call. This will be destroyed when that corresponding `helper()` call is finished (with execution). Approach 2 will not create a new copy, rather append and pop from the same list. It amazingly still behaves identically to approach 1; however, as it keeps track of the fact that it needs to pop after that call-stack execution is complete."
   ],
   "metadata": {
    "collapsed": false,
    "pycharm": {
     "name": "#%% md\n"
    }
   }
  },
  {
   "cell_type": "markdown",
   "source": [
    "I also argue that Approach 2 (explicitly appending and pop-ing from b and c) is more verbose - especially to those who are not familiar with what is happening here. If one is not familiar with the way Python operates with mutable types, they may not be able to fully visualise what happens to the original list as they unwind up the stack."
   ],
   "metadata": {
    "collapsed": false,
    "pycharm": {
     "name": "#%% md\n"
    }
   }
  },
  {
   "cell_type": "code",
   "execution_count": null,
   "metadata": {
    "pycharm": {
     "name": "#%%\n"
    }
   },
   "outputs": [],
   "source": []
  }
 ],
 "metadata": {
  "kernelspec": {
   "display_name": "Python 3 (ipykernel)",
   "language": "python",
   "name": "python3"
  },
  "language_info": {
   "codemirror_mode": {
    "name": "ipython",
    "version": 3
   },
   "file_extension": ".py",
   "mimetype": "text/x-python",
   "name": "python",
   "nbconvert_exporter": "python",
   "pygments_lexer": "ipython3",
   "version": "3.8.2"
  }
 },
 "nbformat": 4,
 "nbformat_minor": 1
}
