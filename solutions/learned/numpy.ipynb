{
 "cells": [
  {
   "cell_type": "code",
   "execution_count": 3,
   "id": "initial_id",
   "metadata": {
    "collapsed": true,
    "ExecuteTime": {
     "end_time": "2024-03-17T08:31:16.439817Z",
     "start_time": "2024-03-17T08:31:16.433991Z"
    }
   },
   "outputs": [
    {
     "name": "stdout",
     "output_type": "stream",
     "text": [
      "---- Partially Sliced ----\n",
      "[[ 2  3]\n",
      " [ 6  7]\n",
      " [10 11]]\n",
      "---- Sum by Cols ----\n",
      "[18 21]\n",
      "---- Sum by Rows ----\n",
      "[ 5 13 21]\n",
      "---- Sum Everything! ----\n",
      "39\n"
     ]
    }
   ],
   "source": [
    "import numpy as np\n",
    "\n",
    "array = np.array([[1, 2, 3, 4], [5, 6, 7, 8], [9, 10, 11, 12]])\n",
    "\n",
    "part_array = array[:, 1:3]\n",
    "sum_cols = np.sum(part_array, axis=0)\n",
    "sum_rows = np.sum(part_array, axis=1)\n",
    "\n",
    "print(\"---- Partially Sliced ----\")\n",
    "print(part_array)\n",
    "\n",
    "print(\"---- Sum by Cols ----\")\n",
    "print(sum_cols)\n",
    "\n",
    "print(\"---- Sum by Rows ----\")\n",
    "print(sum_rows)\n",
    "\n",
    "print(\"---- Sum Everything! ----\")\n",
    "print(np.sum(part_array))\n"
   ]
  },
  {
   "cell_type": "code",
   "execution_count": null,
   "outputs": [],
   "source": [],
   "metadata": {
    "collapsed": false
   },
   "id": "91b25b974fe29fc4"
  }
 ],
 "metadata": {
  "kernelspec": {
   "display_name": "Python 3",
   "language": "python",
   "name": "python3"
  },
  "language_info": {
   "codemirror_mode": {
    "name": "ipython",
    "version": 2
   },
   "file_extension": ".py",
   "mimetype": "text/x-python",
   "name": "python",
   "nbconvert_exporter": "python",
   "pygments_lexer": "ipython2",
   "version": "2.7.6"
  }
 },
 "nbformat": 4,
 "nbformat_minor": 5
}
