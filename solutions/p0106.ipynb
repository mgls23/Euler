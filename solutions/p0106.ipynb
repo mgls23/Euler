{
 "cells": [
  {
   "cell_type": "markdown",
   "metadata": {
    "pycharm": {
     "name": "#%% md\n"
    }
   },
   "source": [
    "# [106] Special subset sums: meta-testing\n",
    "From the statement, we are given that:\n",
    "1. S(B) ≠ S(C); that is, sums of subsets cannot be equal.\n",
    "2. If B contains more elements than C then S(B) > S(C).\n",
    "\n",
    "We are also given that 2 is satisfied. This means, we only need to be checking for sets of equal size.\n",
    "\n",
    "### Configuration\n",
    "\n",
    "Before we begin, this is the boring configuration part:"
   ]
  },
  {
   "cell_type": "code",
   "execution_count": 1,
   "metadata": {
    "pycharm": {
     "name": "#%%\n"
    }
   },
   "outputs": [],
   "source": [
    "import logging\n",
    "import sys\n",
    "\n",
    "from solutions.euler.util.decorators import timed_function\n",
    "\n",
    "logging.basicConfig(stream=sys.stderr, level=logging.DEBUG)"
   ]
  },
  {
   "cell_type": "markdown",
   "metadata": {
    "pycharm": {
     "name": "#%% md\n"
    }
   },
   "source": [
    "## Example 1\n",
    "Let's go with the example of 4 -"
   ]
  },
  {
   "cell_type": "code",
   "execution_count": 3,
   "metadata": {
    "pycharm": {
     "name": "#%%\n"
    }
   },
   "outputs": [
    {
     "name": "stderr",
     "output_type": "stream",
     "text": [
      "INFO:root:Simple example of 4\n",
      "DEBUG:root:Original = [1, 2, 3, 4]\n",
      "DEBUG:root:Original = [1, 2, 3, 100]\n",
      "INFO:root:Complete\n"
     ]
    }
   ],
   "source": [
    "def compare_4(a: list):\n",
    "\tlogging.debug(f'Original = {a}')\n",
    "\n",
    "\tcomparison = 0\n",
    "\n",
    "\tsubset_b = {a[0], a[3]}\n",
    "\tsubset_c = {a[1], a[2]}\n",
    "\tcomparison += 1\n",
    "\n",
    "\treturn sum(subset_b) == sum(subset_c)\n",
    "\n",
    "\n",
    "logging.info('Simple example of 4')\n",
    "assert compare_4([1, 2, 3, 4])\n",
    "assert not compare_4([1, 2, 3, 100])\n",
    "logging.info('Complete')"
   ]
  },
  {
   "cell_type": "markdown",
   "metadata": {
    "pycharm": {
     "name": "#%% md\n"
    }
   },
   "source": [
    "If we sort the list, then we don't have to check b={a[0], a[1]} and c={a[2], a[3]}. a[0] < a[2] and a[1] < a[3] (by definition of sorted array)\n",
    "It is the same for the configuration b={a[0], a[2]}, c={a[1], a[3]} (a[0] < a[1], a[2] < a[3]). However, we do need to check the configuration {a[0], a[4]} and {a[1], a[2]} because in both sets, there is an element that is bigger and smaller than the other set.\n",
    "\n",
    "## Intuition\n",
    "So how about adding every element of the list to either subset b or c, and only if there is an element that is both bigger and smaller in both sets, do we proceed with making a comparison?"
   ]
  },
  {
   "cell_type": "code",
   "execution_count": 8,
   "metadata": {
    "collapsed": false,
    "pycharm": {
     "name": "#%%\n"
    }
   },
   "outputs": [
    {
     "name": "stderr",
     "output_type": "stream",
     "text": [
      "DEBUG:root:Comparing::[1, 2, 6] and [3, 4, 5]\n",
      "DEBUG:root:Comparing::[1, 3, 6] and [2, 4, 5]\n",
      "DEBUG:root:Comparing::[1, 4, 5] and [2, 3, 6]\n",
      "DEBUG:root:Comparing::[1, 4, 6] and [2, 3, 5]\n",
      "DEBUG:root:Comparing::[1, 5, 6] and [2, 3, 4]\n",
      "DEBUG:root:Comparing::[2, 3, 4] and [1, 5, 6]\n",
      "DEBUG:root:Comparing::[2, 3, 5] and [1, 4, 6]\n",
      "DEBUG:root:Comparing::[2, 3, 6] and [1, 4, 5]\n",
      "DEBUG:root:Comparing::[2, 4, 5] and [1, 3, 6]\n",
      "DEBUG:root:Comparing::[3, 4, 5] and [1, 2, 6]\n"
     ]
    }
   ],
   "source": [
    "def first_attempt(a: list):\n",
    "\ta.sort()\n",
    "\n",
    "\tmax_len = len(a) // 2\n",
    "\tcomparison = 0\n",
    "\n",
    "\tdef helper(b, c, i):\n",
    "\t\tnonlocal max_len, comparison\n",
    "\t\tif len(b) < max_len:\n",
    "\t\t\thelper(b + [a[i]], c, i + 1)\n",
    "\n",
    "\t\tif len(c) < max_len:\n",
    "\t\t\thelper(b, c + [a[i]], i + 1)\n",
    "\n",
    "\t\tif len(b) == max_len and len(c) == max_len:\n",
    "\t\t\t# I wish there was a simpler way of doing this\n",
    "\t\t\tsmaller_b, smaller_c = False, False\n",
    "\t\t\tfor e1, e2 in zip(b, c):\n",
    "\t\t\t\tif e1 > e2: smaller_b = True\n",
    "\t\t\t\tif e1 < e2: smaller_c = True\n",
    "\n",
    "\t\t\tif smaller_b and smaller_c:\n",
    "\t\t\t\tlogging.debug(f'Comparing::{b} and {c}')\n",
    "\t\t\t\tcomparison += 1\n",
    "\n",
    "\thelper(b=[], c=[], i=0)\n",
    "\n",
    "\n",
    "first_attempt(list(range(1, 8)))"
   ]
  },
  {
   "cell_type": "markdown",
   "metadata": {
    "collapsed": false,
    "pycharm": {
     "name": "#%% md\n"
    }
   },
   "source": [
    "If you were code-reviewing this code, what adjustments would you make?"
   ]
  },
  {
   "cell_type": "code",
   "execution_count": null,
   "metadata": {
    "collapsed": false,
    "pycharm": {
     "name": "#%%\n"
    }
   },
   "outputs": [],
   "source": [
    "def better_q106(a: list):\n",
    "\ta.sort()\n",
    "\n",
    "\tmax_len = len(a) // 2\n",
    "\tb, c = [], []\n",
    "\tcomparison = 0\n",
    "\n",
    "\tdef helper(i=0):\n",
    "\t\tif 1 < len(b) == len(c):\n",
    "\t\t\tbig_small = set(e1 < e2 for e1, e2 in zip(b, c))\n",
    "\t\t\tif big_small == {False, True}:\n",
    "\t\t\t\tnonlocal comparison\n",
    "\t\t\t\tlogging.debug(f'Comparing::{b} and {c}')\n",
    "\t\t\t\tcomparison += 1\n",
    "\n",
    "\t\tif len(b) < max_len:\n",
    "\t\t\tfor j in range(i, len(a)):\n",
    "\t\t\t\tb.append(a[j])\n",
    "\t\t\t\thelper(j + 1)\n",
    "\t\t\t\tb.pop()\n",
    "\n",
    "\t\tif len(c) < max_len:\n",
    "\t\t\tfor j in range(i, len(a)):\n",
    "\t\t\t\tc.append(a[j])\n",
    "\t\t\t\thelper(j + 1)\n",
    "\t\t\t\tc.pop()\n",
    "\n",
    "\thelper()\n",
    "\treturn comparison // 2\n",
    "\n",
    "\n",
    "assert (timed_function(better_q106)((list(range(1, 8)))) == 70)"
   ]
  },
  {
   "cell_type": "markdown",
   "metadata": {
    "collapsed": false,
    "pycharm": {
     "name": "#%% md\n"
    }
   },
   "source": [
    "The better version adds the duplicate twice - so how do I overcome this inefficiency? I'm sure there's a better way, but I just added a check to stop if first element of C is bigger than first element of b"
   ]
  },
  {
   "cell_type": "code",
   "execution_count": 9,
   "metadata": {
    "collapsed": false,
    "pycharm": {
     "name": "#%%\n"
    }
   },
   "outputs": [
    {
     "name": "stderr",
     "output_type": "stream",
     "text": [
      "DEBUG:root:Comparing::[1, 2, 6] and [3, 4, 5]\n",
      "DEBUG:root:Comparing::[1, 2, 7] and [3, 4, 5]\n",
      "DEBUG:root:Comparing::[1, 2, 7] and [3, 4, 6]\n",
      "DEBUG:root:Comparing::[1, 2, 7] and [3, 5, 6]\n",
      "DEBUG:root:Comparing::[1, 2, 7] and [4, 5, 6]\n",
      "DEBUG:root:Comparing::[1, 3, 7] and [4, 5, 6]\n",
      "DEBUG:root:Comparing::[1, 3, 6] and [2, 4, 5]\n",
      "DEBUG:root:Comparing::[1, 3, 7] and [2, 4, 5]\n",
      "DEBUG:root:Comparing::[1, 3, 7] and [2, 4, 6]\n",
      "DEBUG:root:Comparing::[1, 3, 7] and [2, 5, 6]\n",
      "DEBUG:root:Comparing::[1, 4, 7] and [2, 5, 6]\n",
      "DEBUG:root:Comparing::[1, 4] and [2, 3]\n",
      "DEBUG:root:Comparing::[1, 4, 5] and [2, 3, 6]\n",
      "DEBUG:root:Comparing::[1, 4, 5] and [2, 3, 7]\n",
      "DEBUG:root:Comparing::[1, 4, 6] and [2, 3, 7]\n",
      "DEBUG:root:Comparing::[1, 4, 6] and [2, 3, 5]\n",
      "DEBUG:root:Comparing::[1, 4, 7] and [2, 3, 5]\n",
      "DEBUG:root:Comparing::[1, 4, 7] and [2, 3, 6]\n",
      "DEBUG:root:Comparing::[1, 5] and [2, 3]\n",
      "DEBUG:root:Comparing::[1, 5, 6] and [2, 3, 7]\n",
      "DEBUG:root:Comparing::[1, 5, 7] and [2, 3, 6]\n",
      "DEBUG:root:Comparing::[1, 6] and [2, 3]\n",
      "DEBUG:root:Comparing::[1, 7] and [2, 3]\n",
      "DEBUG:root:Comparing::[1, 5, 6] and [2, 3, 4]\n",
      "DEBUG:root:Comparing::[1, 5, 7] and [2, 3, 4]\n",
      "DEBUG:root:Comparing::[1, 6, 7] and [2, 3, 4]\n",
      "DEBUG:root:Comparing::[1, 6, 7] and [2, 3, 5]\n",
      "DEBUG:root:Comparing::[1, 5] and [2, 4]\n",
      "DEBUG:root:Comparing::[1, 5, 6] and [2, 4, 7]\n",
      "DEBUG:root:Comparing::[1, 5, 7] and [2, 4, 6]\n",
      "DEBUG:root:Comparing::[1, 6] and [2, 4]\n",
      "DEBUG:root:Comparing::[1, 7] and [2, 4]\n",
      "DEBUG:root:Comparing::[1, 6, 7] and [2, 4, 5]\n",
      "DEBUG:root:Comparing::[1, 6] and [2, 5]\n",
      "DEBUG:root:Comparing::[1, 7] and [2, 5]\n",
      "DEBUG:root:Comparing::[1, 7] and [2, 6]\n",
      "DEBUG:root:Comparing::[1, 4, 7] and [3, 5, 6]\n",
      "DEBUG:root:Comparing::[1, 5] and [3, 4]\n",
      "DEBUG:root:Comparing::[1, 5, 6] and [3, 4, 7]\n",
      "DEBUG:root:Comparing::[1, 5, 7] and [3, 4, 6]\n",
      "DEBUG:root:Comparing::[1, 6] and [3, 4]\n",
      "DEBUG:root:Comparing::[1, 7] and [3, 4]\n",
      "DEBUG:root:Comparing::[1, 6, 7] and [3, 4, 5]\n",
      "DEBUG:root:Comparing::[1, 6] and [3, 5]\n",
      "DEBUG:root:Comparing::[1, 7] and [3, 5]\n",
      "DEBUG:root:Comparing::[1, 7] and [3, 6]\n",
      "DEBUG:root:Comparing::[1, 6] and [4, 5]\n",
      "DEBUG:root:Comparing::[1, 7] and [4, 5]\n",
      "DEBUG:root:Comparing::[1, 7] and [4, 6]\n",
      "DEBUG:root:Comparing::[1, 7] and [5, 6]\n",
      "DEBUG:root:Comparing::[2, 3, 7] and [4, 5, 6]\n",
      "DEBUG:root:Comparing::[2, 4, 7] and [3, 5, 6]\n",
      "DEBUG:root:Comparing::[2, 5] and [3, 4]\n",
      "DEBUG:root:Comparing::[2, 5, 6] and [3, 4, 7]\n",
      "DEBUG:root:Comparing::[2, 5, 7] and [3, 4, 6]\n",
      "DEBUG:root:Comparing::[2, 6] and [3, 4]\n",
      "DEBUG:root:Comparing::[2, 7] and [3, 4]\n",
      "DEBUG:root:Comparing::[2, 6, 7] and [3, 4, 5]\n",
      "DEBUG:root:Comparing::[2, 6] and [3, 5]\n",
      "DEBUG:root:Comparing::[2, 7] and [3, 5]\n",
      "DEBUG:root:Comparing::[2, 7] and [3, 6]\n",
      "DEBUG:root:Comparing::[2, 6] and [4, 5]\n",
      "DEBUG:root:Comparing::[2, 7] and [4, 5]\n",
      "DEBUG:root:Comparing::[2, 7] and [4, 6]\n",
      "DEBUG:root:Comparing::[2, 7] and [5, 6]\n",
      "DEBUG:root:Comparing::[3, 6] and [4, 5]\n",
      "DEBUG:root:Comparing::[3, 7] and [4, 5]\n",
      "DEBUG:root:Comparing::[3, 7] and [4, 6]\n",
      "DEBUG:root:Comparing::[3, 7] and [5, 6]\n",
      "DEBUG:root:Comparing::[4, 7] and [5, 6]\n",
      "DEBUG:root:Comparing::[2, 3, 4] and [1, 5, 6]\n",
      "DEBUG:root:Comparing::[2, 3, 4] and [1, 5, 7]\n",
      "DEBUG:root:Comparing::[2, 3, 4] and [1, 6, 7]\n",
      "DEBUG:root:Comparing::[2, 3, 5] and [1, 6, 7]\n",
      "DEBUG:root:Comparing::[2, 3] and [1, 4]\n",
      "DEBUG:root:Comparing::[2, 3, 5] and [1, 4, 6]\n",
      "DEBUG:root:Comparing::[2, 3, 5] and [1, 4, 7]\n",
      "DEBUG:root:Comparing::[2, 3, 6] and [1, 4, 7]\n",
      "DEBUG:root:Comparing::[2, 3, 6] and [1, 4, 5]\n",
      "DEBUG:root:Comparing::[2, 3, 7] and [1, 4, 5]\n",
      "DEBUG:root:Comparing::[2, 3, 7] and [1, 4, 6]\n",
      "DEBUG:root:Comparing::[2, 3] and [1, 5]\n",
      "DEBUG:root:Comparing::[2, 3, 6] and [1, 5, 7]\n",
      "DEBUG:root:Comparing::[2, 3, 7] and [1, 5, 6]\n",
      "DEBUG:root:Comparing::[2, 3] and [1, 6]\n",
      "DEBUG:root:Comparing::[2, 3] and [1, 7]\n",
      "DEBUG:root:Comparing::[2, 4, 5] and [1, 6, 7]\n",
      "DEBUG:root:Comparing::[2, 4] and [1, 5]\n",
      "DEBUG:root:Comparing::[2, 4, 6] and [1, 5, 7]\n",
      "DEBUG:root:Comparing::[2, 4, 7] and [1, 5, 6]\n",
      "DEBUG:root:Comparing::[2, 4] and [1, 6]\n",
      "DEBUG:root:Comparing::[2, 4] and [1, 7]\n",
      "DEBUG:root:Comparing::[2, 5] and [1, 6]\n",
      "DEBUG:root:Comparing::[2, 5] and [1, 7]\n",
      "DEBUG:root:Comparing::[2, 6] and [1, 7]\n",
      "DEBUG:root:Comparing::[2, 4, 5] and [1, 3, 6]\n",
      "DEBUG:root:Comparing::[2, 4, 5] and [1, 3, 7]\n",
      "DEBUG:root:Comparing::[2, 4, 6] and [1, 3, 7]\n",
      "DEBUG:root:Comparing::[2, 5, 6] and [1, 3, 7]\n",
      "DEBUG:root:Comparing::[2, 5, 6] and [1, 4, 7]\n",
      "DEBUG:root:Comparing::[3, 4, 5] and [1, 6, 7]\n",
      "DEBUG:root:Comparing::[3, 4] and [1, 5]\n",
      "DEBUG:root:Comparing::[3, 4, 6] and [1, 5, 7]\n",
      "DEBUG:root:Comparing::[3, 4, 7] and [1, 5, 6]\n",
      "DEBUG:root:Comparing::[3, 4] and [1, 6]\n",
      "DEBUG:root:Comparing::[3, 4] and [1, 7]\n",
      "DEBUG:root:Comparing::[3, 5] and [1, 6]\n",
      "DEBUG:root:Comparing::[3, 5] and [1, 7]\n",
      "DEBUG:root:Comparing::[3, 6] and [1, 7]\n",
      "DEBUG:root:Comparing::[3, 5, 6] and [1, 4, 7]\n",
      "DEBUG:root:Comparing::[4, 5] and [1, 6]\n",
      "DEBUG:root:Comparing::[4, 5] and [1, 7]\n",
      "DEBUG:root:Comparing::[4, 6] and [1, 7]\n",
      "DEBUG:root:Comparing::[5, 6] and [1, 7]\n",
      "DEBUG:root:Comparing::[3, 4, 5] and [1, 2, 6]\n",
      "DEBUG:root:Comparing::[3, 4, 5] and [1, 2, 7]\n",
      "DEBUG:root:Comparing::[3, 4, 6] and [1, 2, 7]\n",
      "DEBUG:root:Comparing::[3, 5, 6] and [1, 2, 7]\n",
      "DEBUG:root:Comparing::[4, 5, 6] and [1, 2, 7]\n",
      "DEBUG:root:Comparing::[4, 5, 6] and [1, 3, 7]\n",
      "DEBUG:root:Comparing::[3, 4, 5] and [2, 6, 7]\n",
      "DEBUG:root:Comparing::[3, 4] and [2, 5]\n",
      "DEBUG:root:Comparing::[3, 4, 6] and [2, 5, 7]\n",
      "DEBUG:root:Comparing::[3, 4, 7] and [2, 5, 6]\n",
      "DEBUG:root:Comparing::[3, 4] and [2, 6]\n",
      "DEBUG:root:Comparing::[3, 4] and [2, 7]\n",
      "DEBUG:root:Comparing::[3, 5] and [2, 6]\n",
      "DEBUG:root:Comparing::[3, 5] and [2, 7]\n",
      "DEBUG:root:Comparing::[3, 6] and [2, 7]\n",
      "DEBUG:root:Comparing::[3, 5, 6] and [2, 4, 7]\n",
      "DEBUG:root:Comparing::[4, 5] and [2, 6]\n",
      "DEBUG:root:Comparing::[4, 5] and [2, 7]\n",
      "DEBUG:root:Comparing::[4, 6] and [2, 7]\n",
      "DEBUG:root:Comparing::[5, 6] and [2, 7]\n",
      "DEBUG:root:Comparing::[4, 5, 6] and [2, 3, 7]\n",
      "DEBUG:root:Comparing::[4, 5] and [3, 6]\n",
      "DEBUG:root:Comparing::[4, 5] and [3, 7]\n",
      "DEBUG:root:Comparing::[4, 6] and [3, 7]\n",
      "DEBUG:root:Comparing::[5, 6] and [3, 7]\n",
      "DEBUG:root:Comparing::[5, 6] and [4, 7]\n"
     ]
    },
    {
     "name": "stdout",
     "output_type": "stream",
     "text": [
      "70\n"
     ]
    }
   ],
   "source": [
    "# when we are adding to c\n",
    "# if b and c and b[0] > c[0]: return"
   ]
  }
 ],
 "metadata": {
  "kernelspec": {
   "display_name": "Python 3 (ipykernel)",
   "language": "python",
   "name": "python3"
  },
  "language_info": {
   "codemirror_mode": {
    "name": "ipython",
    "version": 3
   },
   "file_extension": ".py",
   "mimetype": "text/x-python",
   "name": "python",
   "nbconvert_exporter": "python",
   "pygments_lexer": "ipython3",
   "version": "3.11.5"
  }
 },
 "nbformat": 4,
 "nbformat_minor": 1
}
