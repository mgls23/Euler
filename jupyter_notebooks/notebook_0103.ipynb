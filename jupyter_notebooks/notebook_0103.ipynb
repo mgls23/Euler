{
 "cells": [
  {
   "cell_type": "code",
   "execution_count": 16,
   "outputs": [],
   "source": [
    "# move these to appropriate files\n",
    "from itertools import combinations\n",
    "\n",
    "\n",
    "def check_sum_of_subsets(set_a: set):\n",
    "    # Choose lengths for set B and C\n",
    "    for b_len in range(1, len(set_a) - 1):\n",
    "        for c_len in range(1, len(set_a) - b_len):\n",
    "\n",
    "            # Iterate through all combinations (based on lengths)\n",
    "            for set_b in map(set, combinations(set_a, b_len)):\n",
    "                for set_c in map(set, combinations(set_a, c_len)):\n",
    "\n",
    "                    # Rule: B and C are disjoint - this seems inefficient\n",
    "                    # Also, it's highly unlikely that sum of 3+ elements will be same as 1 element\n",
    "                    if not set_b.intersection(set_c):\n",
    "                        if sum(set_b) == sum(set_c):\n",
    "                            return False, [set_b, set_c]\n",
    "\n",
    "    return True, []\n"
   ],
   "metadata": {
    "collapsed": false,
    "pycharm": {
     "name": "#%%\n"
    }
   }
  },
  {
   "cell_type": "markdown",
   "source": [
    "# [103] Special Subset Sums: optimums\n",
    "https://projecteuler.net/problem=103\n",
    "\n",
    "Let's first examine why the \"rule\" doesn't work for the one that was generated for n=6"
   ],
   "metadata": {
    "collapsed": false,
    "pycharm": {
     "name": "#%% md\n"
    }
   }
  },
  {
   "cell_type": "code",
   "execution_count": 17,
   "outputs": [
    {
     "data": {
      "text/plain": "(True, [])"
     },
     "execution_count": 17,
     "metadata": {},
     "output_type": "execute_result"
    }
   ],
   "source": [
    "set_6 = {11, 17, 20, 22, 23, 24}\n",
    "\n",
    "check_sum_of_subsets(set_6)"
   ],
   "metadata": {
    "collapsed": false,
    "pycharm": {
     "name": "#%%\n"
    }
   }
  },
  {
   "cell_type": "code",
   "execution_count": 17,
   "outputs": [],
   "source": [],
   "metadata": {
    "collapsed": false,
    "pycharm": {
     "name": "#%%\n"
    }
   }
  },
  {
   "cell_type": "code",
   "execution_count": 17,
   "outputs": [],
   "source": [],
   "metadata": {
    "collapsed": false,
    "pycharm": {
     "name": "#%%\n"
    }
   }
  }
 ],
 "metadata": {
  "kernelspec": {
   "display_name": "Python 3",
   "language": "python",
   "name": "python3"
  },
  "language_info": {
   "codemirror_mode": {
    "name": "ipython",
    "version": 2
   },
   "file_extension": ".py",
   "mimetype": "text/x-python",
   "name": "python",
   "nbconvert_exporter": "python",
   "pygments_lexer": "ipython2",
   "version": "2.7.6"
  }
 },
 "nbformat": 4,
 "nbformat_minor": 0
}